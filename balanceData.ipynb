{
 "cells": [
  {
   "cell_type": "code",
   "execution_count": 1,
   "metadata": {},
   "outputs": [],
   "source": [
    "import pandas as pd\n",
    "import string\n",
    "import unicodedata\n",
    "import sys\n",
    "import numpy as np\n",
    "import matplotlib.pyplot as plt\n",
    "plt.style.use(\"fivethirtyeight\")\n",
    "%matplotlib inline"
   ]
  },
  {
   "cell_type": "code",
   "execution_count": 2,
   "metadata": {},
   "outputs": [],
   "source": [
    "data=pd.read_csv('text_emotion.csv')"
   ]
  },
  {
   "cell_type": "code",
   "execution_count": 3,
   "metadata": {},
   "outputs": [],
   "source": [
    "data = data.iloc[:100]"
   ]
  },
  {
   "cell_type": "code",
   "execution_count": 4,
   "metadata": {},
   "outputs": [],
   "source": [
    "data.to_csv('text_emotion_example.csv')"
   ]
  },
  {
   "cell_type": "code",
   "execution_count": 5,
   "metadata": {},
   "outputs": [],
   "source": [
    "dataPolarity = pd.read_csv('text_polarity.csv', encoding = \"ISO-8859-1\", header=None)"
   ]
  },
  {
   "cell_type": "code",
   "execution_count": 6,
   "metadata": {},
   "outputs": [],
   "source": [
    "dataPolarity = dataPolarity.iloc[:100]\n",
    "dataPolarity.to_csv('text_polarity_example.csv')"
   ]
  },
  {
   "cell_type": "code",
   "execution_count": 2,
   "metadata": {},
   "outputs": [],
   "source": [
    "data = pd.read_csv('text_emotion.csv')"
   ]
  },
  {
   "cell_type": "code",
   "execution_count": 3,
   "metadata": {},
   "outputs": [],
   "source": [
    "def groupMoods(mood):\n",
    "    if mood in ['enthusiasm','fun','relief']:\n",
    "        return 'joy'\n",
    "    elif mood in ['hate', 'anger']:\n",
    "        return 'anger'\n",
    "    elif mood in ['sadness', 'empty', 'boredom']:\n",
    "        return 'sadness'\n",
    "    else:\n",
    "        return mood"
   ]
  },
  {
   "cell_type": "code",
   "execution_count": 4,
   "metadata": {},
   "outputs": [],
   "source": [
    "data['sentiment'] = data['sentiment'].apply(lambda x: groupMoods(x))"
   ]
  },
  {
   "cell_type": "code",
   "execution_count": 5,
   "metadata": {},
   "outputs": [],
   "source": [
    "data.to_csv('text_emotionBal.csv')"
   ]
  },
  {
   "cell_type": "code",
   "execution_count": 6,
   "metadata": {
    "scrolled": true
   },
   "outputs": [
    {
     "data": {
      "text/plain": [
       "array(['sadness', 'joy', 'neutral', 'worry', 'surprise', 'love', 'anger',\n",
       "       'happiness'], dtype=object)"
      ]
     },
     "execution_count": 6,
     "metadata": {},
     "output_type": "execute_result"
    }
   ],
   "source": [
    "data['sentiment'].unique()"
   ]
  },
  {
   "cell_type": "code",
   "execution_count": 7,
   "metadata": {},
   "outputs": [],
   "source": [
    "sadness = data[data['sentiment']=='sadness']\n",
    "joy = data[data['sentiment']=='joy']\n",
    "neutral = data[data['sentiment']=='neutral']\n",
    "worry = data[data['sentiment']=='worry']\n",
    "surprise = data[data['sentiment']=='surprise']\n",
    "love = data[data['sentiment']=='love']\n",
    "anger = data[data['sentiment']=='anger']\n",
    "happiness = data[data['sentiment']=='happiness']"
   ]
  },
  {
   "cell_type": "code",
   "execution_count": 8,
   "metadata": {},
   "outputs": [],
   "source": [
    "def createBalancedTestSet(data, n):\n",
    "    rows = np.random.choice(data.index.values, n)\n",
    "    return data.loc[rows]"
   ]
  },
  {
   "cell_type": "code",
   "execution_count": 9,
   "metadata": {},
   "outputs": [],
   "source": [
    "sadnessTrain = createBalancedTestSet(sadness, 1000)\n",
    "joyTrain = createBalancedTestSet(joy, 1000)\n",
    "neutralNTrain = createBalancedTestSet(neutral, 1000)\n",
    "worryTrain = createBalancedTestSet(worry, 1000)\n",
    "surpriseNTrain = createBalancedTestSet(surprise, 1000)\n",
    "loveTrain = createBalancedTestSet(love, 1000)\n",
    "angerTrain = createBalancedTestSet(anger, 1000)\n",
    "happinessTrain = createBalancedTestSet(happiness, 1000)"
   ]
  },
  {
   "cell_type": "code",
   "execution_count": 10,
   "metadata": {},
   "outputs": [],
   "source": [
    "everything = [sadnessTrain, joyTrain, neutralNTrain, worryTrain, surpriseNTrain, loveTrain, angerTrain, happinessTrain]"
   ]
  },
  {
   "cell_type": "code",
   "execution_count": null,
   "metadata": {},
   "outputs": [],
   "source": [
    "theDF = pd.concat(everything)\n",
    "theDF.to_csv('text')"
   ]
  },
  {
   "cell_type": "code",
   "execution_count": 19,
   "metadata": {},
   "outputs": [],
   "source": [
    "sadnessTrain = createBalancedTestSet(sadness, 1000)\n",
    "joyTrain = createBalancedTestSet(joy, 2000)\n",
    "neutralNTrain = createBalancedTestSet(neutral, 1000)\n",
    "neutralPTrain = createBalancedTestSet(neutral, 2000)\n",
    "worryTrain = createBalancedTestSet(worry, 1000)\n",
    "surpriseNTrain = createBalancedTestSet(surprise, 1000)\n",
    "surprisePTrain = createBalancedTestSet(surprise, 2000)\n",
    "loveTrain = createBalancedTestSet(love, 2000)\n",
    "angerTrain = createBalancedTestSet(anger, 1000)\n",
    "happinessTrain = createBalancedTestSet(happiness, 2000)"
   ]
  },
  {
   "cell_type": "code",
   "execution_count": 20,
   "metadata": {},
   "outputs": [],
   "source": [
    "negatives = [sadnessTrain, neutralNTrain, worryTrain, surpriseNTrain, angerTrain]\n",
    "positives = [joyTrain, neutralPTrain, surprisePTrain, loveTrain, happinessTrain]"
   ]
  },
  {
   "cell_type": "code",
   "execution_count": 21,
   "metadata": {},
   "outputs": [],
   "source": [
    "negativeDF = pd.concat(negatives)\n",
    "positiveDF = pd.concat(positives)"
   ]
  },
  {
   "cell_type": "code",
   "execution_count": 27,
   "metadata": {},
   "outputs": [],
   "source": [
    "negativeDFnoSurprise = pd.concat([sadnessTrain, neutralNTrain, worryTrain, angerTrain])\n",
    "negativeDFnoSurprise.to_csv('text_emotion_negative_nos.csv')"
   ]
  },
  {
   "cell_type": "code",
   "execution_count": 26,
   "metadata": {},
   "outputs": [],
   "source": [
    "negativeDF.to_csv('text_emotion_negative.csv')\n",
    "positiveDF.to_csv('text_emotion_positive.csv')"
   ]
  }
 ],
 "metadata": {
  "kernelspec": {
   "display_name": "Python 3",
   "language": "python",
   "name": "python3"
  },
  "language_info": {
   "codemirror_mode": {
    "name": "ipython",
    "version": 3
   },
   "file_extension": ".py",
   "mimetype": "text/x-python",
   "name": "python",
   "nbconvert_exporter": "python",
   "pygments_lexer": "ipython3",
   "version": "3.7.4"
  }
 },
 "nbformat": 4,
 "nbformat_minor": 2
}
